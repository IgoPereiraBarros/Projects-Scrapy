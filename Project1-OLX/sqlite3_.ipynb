{
 "cells": [
  {
   "cell_type": "code",
   "execution_count": 20,
   "metadata": {},
   "outputs": [],
   "source": [
    "import sqlite3"
   ]
  },
  {
   "cell_type": "code",
   "execution_count": 21,
   "metadata": {},
   "outputs": [],
   "source": [
    "conn = sqlite3.connect('db.sqlite3')"
   ]
  },
  {
   "cell_type": "code",
   "execution_count": 22,
   "metadata": {},
   "outputs": [
    {
     "data": {
      "text/plain": [
       "<sqlite3.Cursor at 0x7f579af1c0a0>"
      ]
     },
     "execution_count": 22,
     "metadata": {},
     "output_type": "execute_result"
    }
   ],
   "source": [
    "conn.execute(\n",
    "    \"CREATE TABLE cars(id INTEGER PRIMARY KEY, title text, categorical text, model text, motor_power text, doors text, plate_end text, type_vehicle text, year text, fuel text, mileage text, exchange text, direction text, color text, only_owner text, accept_exchanges text, options text)\")"
   ]
  },
  {
   "cell_type": "code",
   "execution_count": 23,
   "metadata": {},
   "outputs": [],
   "source": [
    "conn.commit()"
   ]
  },
  {
   "cell_type": "code",
   "execution_count": 24,
   "metadata": {},
   "outputs": [],
   "source": [
    "car = {\n",
    "     \"title\": \"GM - CHEVROLET SONIC SED. LTZ 1.6 16V FLEXPOWER 4P AUT. 2012 - 571132364 | OLX\", \n",
    "     \"categorical\": \"Carros, vans e utilit\\u00e1rios\", \n",
    "     \"model\": \"GM - CHEVROLET SONIC\", \n",
    "     \"motor_power\": \"1.6\", \n",
    "     \"doors\": \"4 portas\", \n",
    "     \"plate_end\": \"1\", \n",
    "     \"type_vehicle\": \"Sed\\u00e3\", \n",
    "     \"year\": \"2012\", \n",
    "     \"fuel\": \"Flex\", \n",
    "     \"mileage\": \"65.000\", \n",
    "     \"exchange\": \"Autom\\u00e1tico\", \n",
    "     \"direction\": \"El\\u00e9trica\", \n",
    "     \"color\": \"Prata\", \n",
    "     \"only_owner\": None, \n",
    "     \"accept_exchanges\": None, \n",
    "     \"options\": \"Ar condicionado, Vidro el\\u00e9trico, Trava el\\u00e9trica, Air bag, Alarme, Som, Sensor de r\\u00e9\"\n",
    "}"
   ]
  },
  {
   "cell_type": "code",
   "execution_count": 11,
   "metadata": {},
   "outputs": [
    {
     "data": {
      "text/plain": [
       "{'title': 'GM - CHEVROLET SONIC SED. LTZ 1.6 16V FLEXPOWER 4P AUT. 2012 - 571132364 | OLX',\n",
       " 'categorical': 'Carros, vans e utilitários',\n",
       " 'model': 'GM - CHEVROLET SONIC',\n",
       " 'motor_power': '1.6',\n",
       " 'doors': '4 portas',\n",
       " 'plate_end': '1',\n",
       " 'type_vehicle': 'Sedã',\n",
       " 'year': '2012',\n",
       " 'fuel': 'Flex',\n",
       " 'mileage': '65.000',\n",
       " 'exchange': 'Automático',\n",
       " 'direction': 'Elétrica',\n",
       " 'color': 'Prata',\n",
       " 'only_owner': '',\n",
       " 'accept_exchanges': '',\n",
       " 'options': 'Ar condicionado, Vidro elétrico, Trava elétrica, Air bag, Alarme, Som, Sensor de ré'}"
      ]
     },
     "execution_count": 11,
     "metadata": {},
     "output_type": "execute_result"
    }
   ],
   "source": [
    "car"
   ]
  },
  {
   "cell_type": "code",
   "execution_count": 25,
   "metadata": {},
   "outputs": [
    {
     "data": {
      "text/plain": [
       "<sqlite3.Cursor at 0x7f579af1c180>"
      ]
     },
     "execution_count": 25,
     "metadata": {},
     "output_type": "execute_result"
    }
   ],
   "source": [
    "conn.execute(\n",
    "    \"INSERT INTO cars(title, categorical , model , motor_power, doors, plate_end, type_vehicle, year, fuel, mileage, exchange, direction, color, only_owner, accept_exchanges, options) VALUES (:title, :categorical , :model , :motor_power, :doors, :plate_end, :type_vehicle, :year, :fuel, :mileage, :exchange, :direction, :color, :only_owner, :accept_exchanges, :options)\",\n",
    "    car\n",
    ")"
   ]
  },
  {
   "cell_type": "code",
   "execution_count": 26,
   "metadata": {},
   "outputs": [],
   "source": [
    "conn.commit()"
   ]
  },
  {
   "cell_type": "code",
   "execution_count": 41,
   "metadata": {},
   "outputs": [],
   "source": [
    "result = conn.execute(\"SELECT * FROM cars\")"
   ]
  },
  {
   "cell_type": "code",
   "execution_count": 42,
   "metadata": {},
   "outputs": [
    {
     "name": "stdout",
     "output_type": "stream",
     "text": [
      "(1, 'GM - CHEVROLET SONIC SED. LTZ 1.6 16V FLEXPOWER 4P AUT. 2012 - 571132364 | OLX', 'Carros, vans e utilitários', 'GM - CHEVROLET SONIC', '1.6', '4 portas', '1', 'Sedã', '2012', 'Flex', '65.000', 'Automático', 'Elétrica', 'Prata', None, None, 'Ar condicionado, Vidro elétrico, Trava elétrica, Air bag, Alarme, Som, Sensor de ré')\n"
     ]
    }
   ],
   "source": [
    "for r in result:\n",
    "    print(r)"
   ]
  },
  {
   "cell_type": "code",
   "execution_count": null,
   "metadata": {},
   "outputs": [],
   "source": []
  }
 ],
 "metadata": {
  "kernelspec": {
   "display_name": "Python 3",
   "language": "python",
   "name": "python3"
  },
  "language_info": {
   "codemirror_mode": {
    "name": "ipython",
    "version": 3
   },
   "file_extension": ".py",
   "mimetype": "text/x-python",
   "name": "python",
   "nbconvert_exporter": "python",
   "pygments_lexer": "ipython3",
   "version": "3.7.1"
  }
 },
 "nbformat": 4,
 "nbformat_minor": 2
}
